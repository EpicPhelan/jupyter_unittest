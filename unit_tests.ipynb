{
 "cells": [
  {
   "attachments": {},
   "cell_type": "markdown",
   "metadata": {},
   "source": [
    "# We want to test these two functions"
   ]
  },
  {
   "cell_type": "code",
   "execution_count": 1,
   "metadata": {},
   "outputs": [],
   "source": [
    "def add_two(a, b):\n",
    "    ''' Sum two integers '''\n",
    "    return a + b"
   ]
  },
  {
   "cell_type": "code",
   "execution_count": 2,
   "metadata": {},
   "outputs": [],
   "source": [
    "def sum_list(lst):\n",
    "    ''' Sum the value of a list of integers '''\n",
    "    temp = 0\n",
    "    for i in lst:\n",
    "        temp += i\n",
    "    return temp"
   ]
  },
  {
   "attachments": {},
   "cell_type": "markdown",
   "metadata": {},
   "source": [
    "# Creating a Test Class and Test Methods"
   ]
  },
  {
   "cell_type": "code",
   "execution_count": 9,
   "metadata": {},
   "outputs": [],
   "source": [
    "import unittest\n",
    "\n",
    "class example_test(unittest.TestCase):\n",
    "    #methods must start with test\n",
    "    def test_adding(self):\n",
    "        self.assertEqual(add_two(1, 2), 3)\n",
    "\n",
    "    def test_sum_list(self):\n",
    "        #store lists to test here\n",
    "        test_list_1 = [1, 2, 3]\n",
    "        test_list_2 = [4, 5, 6]\n",
    "        self.assertEqual(sum_list(test_list_1), 6)\n",
    "        self.assertEqual(sum_list(test_list_2), 15)\n",
    "\n",
    "\n"
   ]
  },
  {
   "attachments": {},
   "cell_type": "markdown",
   "metadata": {},
   "source": [
    "# Running the test by calling unittest.main()"
   ]
  },
  {
   "cell_type": "code",
   "execution_count": 10,
   "metadata": {},
   "outputs": [
    {
     "name": "stderr",
     "output_type": "stream",
     "text": [
      "test_adding (__main__.example_test) ... ok\n",
      "test_sum_list (__main__.example_test) ... ok\n",
      "\n",
      "----------------------------------------------------------------------\n",
      "Ran 2 tests in 0.003s\n",
      "\n",
      "OK\n"
     ]
    },
    {
     "data": {
      "text/plain": [
       "<unittest.main.TestProgram at 0x7f8ce83bf5b0>"
      ]
     },
     "execution_count": 10,
     "metadata": {},
     "output_type": "execute_result"
    }
   ],
   "source": [
    "#This part will run the tests. It needs to be at the bottom of the notebook\n",
    "#There are a few things that are unique to running them in a Jupyter Notebook\n",
    "#the argv=[''] is needed to prevent the test from running twice\n",
    "#verbosity gives more detail in the test results\n",
    "#exit = False is needed to prevent the test from exiting the notebook\n",
    "unittest.main(argv=[''], verbosity=2, exit=False)"
   ]
  }
 ],
 "metadata": {
  "kernelspec": {
   "display_name": "Python 3",
   "language": "python",
   "name": "python3"
  },
  "language_info": {
   "codemirror_mode": {
    "name": "ipython",
    "version": 3
   },
   "file_extension": ".py",
   "mimetype": "text/x-python",
   "name": "python",
   "nbconvert_exporter": "python",
   "pygments_lexer": "ipython3",
   "version": "3.10.4"
  },
  "orig_nbformat": 4
 },
 "nbformat": 4,
 "nbformat_minor": 2
}
